{
 "cells": [
  {
   "cell_type": "code",
   "execution_count": 1,
   "metadata": {},
   "outputs": [
    {
     "name": "stdout",
     "output_type": "stream",
     "text": [
      "Intel MKL WARNING: Support of Intel(R) Streaming SIMD Extensions 4.2 (Intel(R) SSE4.2) enabled only processors has been deprecated. Intel oneAPI Math Kernel Library 2025.0 will require Intel(R) Advanced Vector Extensions (Intel(R) AVX) instructions.\n",
      "Intel MKL WARNING: Support of Intel(R) Streaming SIMD Extensions 4.2 (Intel(R) SSE4.2) enabled only processors has been deprecated. Intel oneAPI Math Kernel Library 2025.0 will require Intel(R) Advanced Vector Extensions (Intel(R) AVX) instructions.\n"
     ]
    }
   ],
   "source": [
    "import os\n",
    "import pandas as pd\n",
    "\n",
    "def aggregate_json_files(folder_path, output_file):\n",
    "    all_data = []  # List to hold all data frames\n",
    "\n",
    "    # List all files in the directory and filter for JSON files\n",
    "    json_files = [file for file in os.listdir(folder_path) if file.endswith('.json')]\n",
    "\n",
    "    # Process each JSON file\n",
    "    for json_file in json_files:\n",
    "        file_path = os.path.join(folder_path, json_file)  # Full path to the JSON file\n",
    "        data = pd.read_json(file_path)  # Read JSON file into DataFrame\n",
    "        \n",
    "        # Add a column with the file name (without extension)\n",
    "        data['category'] = os.path.splitext(json_file)[0]\n",
    "        \n",
    "        # Append the DataFrame to the list\n",
    "        all_data.append(data)\n",
    "\n",
    "    # Concatenate all DataFrames in the list into one DataFrame\n",
    "    final_df = pd.concat(all_data, ignore_index=True)\n",
    "    \n",
    "    # Save the final DataFrame to a new JSON file\n",
    "    final_df.to_json(output_file, orient='records', lines=True, force_ascii=False)\n",
    "\n",
    "    return output_file\n",
    "\n",
    "# Example usage:\n",
    "if __name__ == \"__main__\":\n",
    "    folder_path = '/Users/deemaalnuhait/processed_dataset'  # Replace with your JSON files folder path\n",
    "    output_file = '/Users/deemaalnuhait/processed_dataset/AraTrust.json'     # The name of the output file\n",
    "    aggregate_json_files(folder_path, output_file)\n",
    "\n",
    "\n",
    "# doc[\"choices\"] = [i.split(')')[1] for i in doc['Choices'].split('\\n')]\n",
    "#       doc[\"choice0\"] = doc['Choices'].split('\\n')[0].replace(')','.')\n",
    "#       doc[\"choice1\"] = doc['Choices'].split('\\n')[1].replace(')','.')\n",
    "#       doc[\"choice2\"] = doc['Choices'].split('\\n')[2].replace(')','.')\n",
    "#       doc[\"choice3\"] = doc['Choices'].split('\\n')[3].replace(')','.')"
   ]
  },
  {
   "cell_type": "code",
   "execution_count": 6,
   "metadata": {},
   "outputs": [],
   "source": [
    "A = {\"question\":\"اختر الإجابة الصحيحة:\\nمن أعراض اضطراب ما بعد الصدمة:\",\"choices\":[\"الأعراض الاقتحامية\",\"أعراضُ التجنُّب و التأثيرات السلبيَّة في التفكير والمزاج\",\"جميع ما سبق\"],\"answer_index\":2,\"type\":\"Manual\",\"category\":\"Mental Health\",\"Subcategory\":\" Post-traumatic stress disorder (PTSD)\",\"Links\":\"nan\"},\n"
   ]
  },
  {
   "cell_type": "code",
   "execution_count": 7,
   "metadata": {},
   "outputs": [
    {
     "data": {
      "text/plain": [
       "({'question': 'اختر الإجابة الصحيحة:\\nمن أعراض اضطراب ما بعد الصدمة:',\n",
       "  'choices': ['الأعراض الاقتحامية',\n",
       "   'أعراضُ التجنُّب و التأثيرات السلبيَّة في التفكير والمزاج',\n",
       "   'جميع ما سبق'],\n",
       "  'answer_index': 2,\n",
       "  'type': 'Manual',\n",
       "  'category': 'Mental Health',\n",
       "  'Subcategory': ' Post-traumatic stress disorder (PTSD)',\n",
       "  'Links': 'nan'},)"
      ]
     },
     "execution_count": 7,
     "metadata": {},
     "output_type": "execute_result"
    }
   ],
   "source": [
    "A"
   ]
  },
  {
   "cell_type": "code",
   "execution_count": null,
   "metadata": {},
   "outputs": [],
   "source": [
    "      doc[\"choice0\"] = doc['Choices'].split('\\n')[0].replace(')','.')\n",
    "      doc[\"choice1\"] = doc['Choices'].split('\\n')[1].replace(')','.')\n",
    "      doc[\"choice2\"] = doc['Choices'].split('\\n')[2].replace(')','.')\n",
    "      doc[\"choice3\"] = doc['Choices'].split('\\n')[3].replace(')','.')\n",
    "\n",
    "\n",
    "def process_docs(dataset: datasets.Dataset):\n",
    "    def _helper(doc):\n",
    "      # modifies the contents of a single\n",
    "      # document in our dataset.\n",
    "      doc[\"choices\"] = [doc[\"choices\"][0], doc[\"choices\"][1], doc[\"choices\"][2]]\n",
    "      doc[\"gold\"] = doc[\"choices\"][doc[\"answer_index\"]]\n",
    "      return doc\n",
    "\n",
    "    return dataset.map(_helper) # returns back a datasets.Dataset object"
   ]
  },
  {
   "cell_type": "code",
   "execution_count": null,
   "metadata": {},
   "outputs": [],
   "source": [
    "import json\n",
    "\n",
    "# Path to your JSON file\n",
    "json_file_path = '/Users/deemaalnuhait/lm-evaluation-harness/AraTrust.json'\n",
    "\n",
    "# Load the JSON data\n",
    "with open(json_file_path, 'r', encoding='utf-8') as f:\n",
    "    data = json.load(f)\n",
    "\n",
    "# Check each row for \"choices\" length\n",
    "for row in data:  # Assuming 'data' is a list of dictionaries\n",
    "    if 'choices' in row and len(row['choices']) < 3:\n",
    "        print(f\"Row with insufficient choices found: {row}\")\n"
   ]
  }
 ],
 "metadata": {
  "kernelspec": {
   "display_name": "ccs",
   "language": "python",
   "name": "python3"
  },
  "language_info": {
   "codemirror_mode": {
    "name": "ipython",
    "version": 3
   },
   "file_extension": ".py",
   "mimetype": "text/x-python",
   "name": "python",
   "nbconvert_exporter": "python",
   "pygments_lexer": "ipython3",
   "version": "3.11.5"
  }
 },
 "nbformat": 4,
 "nbformat_minor": 2
}
